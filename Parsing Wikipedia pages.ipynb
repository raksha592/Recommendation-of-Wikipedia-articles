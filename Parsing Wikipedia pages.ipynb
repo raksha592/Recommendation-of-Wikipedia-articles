{
 "cells": [
  {
   "cell_type": "code",
   "execution_count": 1,
   "metadata": {},
   "outputs": [],
   "source": [
    "import requests\n",
    "\n",
    "# Parsing HTML\n",
    "from bs4 import BeautifulSoup\n",
    "\n",
    "# File system management\n",
    "import os"
   ]
  },
  {
   "cell_type": "code",
   "execution_count": 2,
   "metadata": {},
   "outputs": [
    {
     "data": {
      "text/plain": [
       "['../',\n",
       " '20180901/',\n",
       " '20180920/',\n",
       " '20181001/',\n",
       " '20181020/',\n",
       " '20181101/',\n",
       " '20181120/',\n",
       " '20181201/',\n",
       " 'latest/']"
      ]
     },
     "execution_count": 2,
     "metadata": {},
     "output_type": "execute_result"
    }
   ],
   "source": [
    "base_url = 'https://dumps.wikimedia.org/enwiki/'\n",
    "index = requests.get(base_url).text\n",
    "soup_index = BeautifulSoup(index, 'html.parser')\n",
    "\n",
    "# Find the links that are dates of dumps\n",
    "dumps = [a['href'] for a in soup_index.find_all('a') if \n",
    "         a.has_attr('href')]\n",
    "dumps"
   ]
  },
  {
   "cell_type": "code",
   "execution_count": 3,
   "metadata": {},
   "outputs": [
    {
     "data": {
      "text/plain": [
       "'<!DOCTYPE '"
      ]
     },
     "execution_count": 3,
     "metadata": {},
     "output_type": "execute_result"
    }
   ],
   "source": [
    "dump_url = base_url + '20180901/'\n",
    "\n",
    "# Retrieve the html\n",
    "dump_html = requests.get(dump_url).text\n",
    "dump_html[:10]"
   ]
  },
  {
   "cell_type": "code",
   "execution_count": 4,
   "metadata": {},
   "outputs": [
    {
     "data": {
      "text/plain": [
       "[<li class=\"file\"><a href=\"/enwiki/20180901/enwiki-20180901-pages-articles-multistream.xml.bz2\">enwiki-20180901-pages-articles-multistream.xml.bz2</a> 15.2 GB</li>,\n",
       " <li class=\"file\"><a href=\"/enwiki/20180901/enwiki-20180901-pages-articles-multistream-index.txt.bz2\">enwiki-20180901-pages-articles-multistream-index.txt.bz2</a> 195.6 MB</li>,\n",
       " <li class=\"file\"><a href=\"/enwiki/20180901/enwiki-20180901-pages-meta-history1.xml-p10p2101.7z\">enwiki-20180901-pages-meta-history1.xml-p10p2101.7z</a> 320.6 MB</li>,\n",
       " <li class=\"file\"><a href=\"/enwiki/20180901/enwiki-20180901-pages-meta-history1.xml-p2102p4148.7z\">enwiki-20180901-pages-meta-history1.xml-p2102p4148.7z</a> 310.5 MB</li>]"
      ]
     },
     "execution_count": 4,
     "metadata": {},
     "output_type": "execute_result"
    }
   ],
   "source": [
    "# Convert to a soup\n",
    "soup_dump = BeautifulSoup(dump_html, 'html.parser')\n",
    "\n",
    "# Find li elements with the class file\n",
    "soup_dump.find_all('li', {'class': 'file'}, limit = 10)[:4]"
   ]
  },
  {
   "cell_type": "code",
   "execution_count": 5,
   "metadata": {},
   "outputs": [
    {
     "data": {
      "text/plain": [
       "[('enwiki-20180901-pages-articles-multistream.xml.bz2', ['15.2', 'GB']),\n",
       " ('enwiki-20180901-pages-articles-multistream-index.txt.bz2', ['195.6', 'MB']),\n",
       " ('enwiki-20180901-pages-articles.xml.bz2', ['14.3', 'GB']),\n",
       " ('enwiki-20180901-pages-articles1.xml-p10p30302.bz2', ['165.3', 'MB']),\n",
       " ('enwiki-20180901-pages-articles2.xml-p30304p88444.bz2', ['195.8', 'MB'])]"
      ]
     },
     "execution_count": 5,
     "metadata": {},
     "output_type": "execute_result"
    }
   ],
   "source": [
    "\n",
    "files = []\n",
    "\n",
    "# Search through all files\n",
    "for file in soup_dump.find_all('li', {'class': 'file'}):\n",
    "    text = file.text\n",
    "    # Select the relevant files\n",
    "    if 'pages-articles' in text:\n",
    "        files.append((text.split()[0], text.split()[1:]))\n",
    "        \n",
    "files[:5]"
   ]
  },
  {
   "cell_type": "code",
   "execution_count": 6,
   "metadata": {},
   "outputs": [
    {
     "data": {
      "text/plain": [
       "['enwiki-20180901-pages-articles27.xml-p51663464p53163464.bz2',\n",
       " 'enwiki-20180901-pages-articles27.xml-p53163464p54663464.bz2',\n",
       " 'enwiki-20180901-pages-articles27.xml-p54663464p56163464.bz2',\n",
       " 'enwiki-20180901-pages-articles27.xml-p56163464p57663464.bz2',\n",
       " 'enwiki-20180901-pages-articles27.xml-p57663464p58360959.bz2']"
      ]
     },
     "execution_count": 6,
     "metadata": {},
     "output_type": "execute_result"
    }
   ],
   "source": [
    "files_to_download = [file[0] for file in files if '.xml-p' in file[0]]\n",
    "files_to_download[-5:]"
   ]
  },
  {
   "cell_type": "code",
   "execution_count": 7,
   "metadata": {},
   "outputs": [
    {
     "name": "stderr",
     "output_type": "stream",
     "text": [
      "Using TensorFlow backend.\n"
     ]
    }
   ],
   "source": [
    "import sys\n",
    "from keras.utils import get_file"
   ]
  },
  {
   "cell_type": "code",
   "execution_count": 8,
   "metadata": {},
   "outputs": [],
   "source": [
    "#files_to_download"
   ]
  },
  {
   "cell_type": "code",
   "execution_count": 9,
   "metadata": {},
   "outputs": [],
   "source": [
    "#get_file('C:/Users/raksh/Desktop/Fall 2018/Big Data-Nick brown/Big-Data-Intelligence-and-Analytics-/Recommendation System for Wikipedia/enwiki-20181120-pages-articles1.xml-p10p30302.bz2',dump_url)"
   ]
  },
  {
   "cell_type": "code",
   "execution_count": 10,
   "metadata": {},
   "outputs": [],
   "source": [
    "keras_home='C:/Users/raksh/Desktop/Fall 2018/Big Data-Nick brown/Big-Data-Intelligence-and-Analytics-/Recommendation System for Wikipedia/Data/'"
   ]
  },
  {
   "cell_type": "code",
   "execution_count": 11,
   "metadata": {},
   "outputs": [
    {
     "name": "stdout",
     "output_type": "stream",
     "text": [
      "Downloading\n",
      "Downloading\n",
      "Downloading\n",
      "Downloading\n",
      "Downloading\n",
      "Downloading\n",
      "Downloading\n",
      "Downloading\n",
      "Downloading\n",
      "Downloading\n",
      "Downloading\n",
      "Downloading\n",
      "Downloading\n",
      "Downloading\n",
      "Downloading\n",
      "Downloading\n",
      "Downloading\n",
      "Downloading\n",
      "Downloading\n",
      "Downloading\n",
      "Downloading\n",
      "Downloading\n",
      "Downloading\n",
      "Downloading\n",
      "Downloading\n",
      "Downloading\n",
      "Downloading\n",
      "Downloading\n",
      "Downloading\n",
      "Downloading\n",
      "Downloading\n",
      "Downloading\n",
      "Downloading\n",
      "Downloading\n",
      "Downloading\n",
      "Downloading\n",
      "Downloading\n",
      "Downloading\n",
      "Downloading\n",
      "Downloading\n",
      "Downloading\n",
      "Downloading\n",
      "Downloading\n",
      "Downloading\n",
      "Downloading\n",
      "Downloading\n",
      "Downloading\n",
      "Downloading\n",
      "Downloading\n",
      "Downloading\n",
      "Downloading\n",
      "Downloading\n",
      "Downloading\n",
      "Downloading\n",
      "Downloading\n"
     ]
    }
   ],
   "source": [
    "\n",
    "data_paths = []\n",
    "file_info = []\n",
    "\n",
    "# Iterate through each file\n",
    "for file in files_to_download:\n",
    "    path = keras_home+file\n",
    "    \n",
    "    # Check to see if the path exists (if the file is already downloaded)\n",
    "    if not os.path.exists(file):\n",
    "        print('Downloading')\n",
    "        # If not, download the file\n",
    "        data_paths.append(get_file(path, dump_url+'/'+file))\n",
    "        # Find the file size in MB\n",
    "        file_size = os.stat(path).st_size / 1e3\n",
    "        \n",
    "        # Find the number of articles\n",
    "        file_articles = int(file.split('p')[-1].split('.')[-2]) - int(file.split('p')[-2])\n",
    "        file_info.append((file, file_size, file_articles))\n",
    "        \n",
    "    # If the file is already downloaded find some information\n",
    "    else:\n",
    "        data_paths.append(path)\n",
    "        # Find the file size in MB\n",
    "        file_size = os.stat(path).st_size / 1e3\n",
    "        \n",
    "        # Find the number of articles\n",
    "        file_number = int(file.split('p')[-1].split('.')[-2]) - int(file.split('p')[-2])\n",
    "        file_info.append((file.split('-')[-1], file_size, file_number))"
   ]
  },
  {
   "cell_type": "code",
   "execution_count": 12,
   "metadata": {},
   "outputs": [
    {
     "data": {
      "text/plain": [
       "[('enwiki-20180901-pages-articles14.xml-p6197599p7697599.bz2',\n",
       "  397133.836,\n",
       "  1500000),\n",
       " ('enwiki-20180901-pages-articles12.xml-p3926864p5040435.bz2',\n",
       "  396765.417,\n",
       "  1113571),\n",
       " ('enwiki-20180901-pages-articles13.xml-p5040438p6197593.bz2',\n",
       "  390834.855,\n",
       "  1157155),\n",
       " ('enwiki-20180901-pages-articles11.xml-p3046517p3926861.bz2',\n",
       "  383739.076,\n",
       "  880344),\n",
       " ('enwiki-20180901-pages-articles15.xml-p7744803p9244803.bz2',\n",
       "  374264.421,\n",
       "  1500000)]"
      ]
     },
     "execution_count": 12,
     "metadata": {},
     "output_type": "execute_result"
    }
   ],
   "source": [
    "sorted(file_info, key = lambda x: x[1], reverse = True)[:5]"
   ]
  },
  {
   "cell_type": "code",
   "execution_count": 13,
   "metadata": {},
   "outputs": [
    {
     "data": {
      "text/plain": [
       "[('enwiki-20180901-pages-articles14.xml-p6197599p7697599.bz2',\n",
       "  397133.836,\n",
       "  1500000),\n",
       " ('enwiki-20180901-pages-articles15.xml-p7744803p9244803.bz2',\n",
       "  374264.421,\n",
       "  1500000),\n",
       " ('enwiki-20180901-pages-articles16.xml-p9518059p11018059.bz2',\n",
       "  310012.6,\n",
       "  1500000),\n",
       " ('enwiki-20180901-pages-articles17.xml-p11539268p13039268.bz2',\n",
       "  369371.949,\n",
       "  1500000),\n",
       " ('enwiki-20180901-pages-articles18.xml-p13693075p15193075.bz2',\n",
       "  352199.415,\n",
       "  1500000)]"
      ]
     },
     "execution_count": 13,
     "metadata": {},
     "output_type": "execute_result"
    }
   ],
   "source": [
    "sorted(file_info, key = lambda x: x[2], reverse = True)[:5]"
   ]
  },
  {
   "cell_type": "code",
   "execution_count": 14,
   "metadata": {},
   "outputs": [
    {
     "name": "stdout",
     "output_type": "stream",
     "text": [
      "There are 55 partitions.\n"
     ]
    }
   ],
   "source": [
    "print(f'There are {len(file_info)} partitions.')"
   ]
  },
  {
   "cell_type": "code",
   "execution_count": 15,
   "metadata": {},
   "outputs": [
    {
     "data": {
      "image/png": "[encoded data removed]",
      "text/plain": [
       "<Figure size 864x432 with 1 Axes>"
      ]
     },
     "metadata": {
      "needs_background": "light"
     },
     "output_type": "display_data"
    }
   ],
   "source": [
    "import pandas as pd\n",
    "import matplotlib.pyplot as plt\n",
    "%matplotlib inline\n",
    "file_df = pd.DataFrame(file_info, columns = ['file', 'size (MB)', 'articles']).set_index('file')\n",
    "file_df['size (MB)'].plot.bar(color = 'red', figsize = (12, 6));"
   ]
  },
  {
   "cell_type": "code",
   "execution_count": 16,
   "metadata": {},
   "outputs": [
    {
     "name": "stdout",
     "output_type": "stream",
     "text": [
      "The total size of files on disk is 15.398009268 GB\n"
     ]
    }
   ],
   "source": [
    "print(f\"The total size of files on disk is {file_df['size (MB)'].sum() / 1e6} GB\")"
   ]
  },
  {
   "cell_type": "code",
   "execution_count": 17,
   "metadata": {},
   "outputs": [
    {
     "data": {
      "text/plain": [
       "'C:/Users/raksh/Desktop/Fall 2018/Big Data-Nick brown/Big-Data-Intelligence-and-Analytics-/Recommendation System for Wikipedia/Data/enwiki-20180901-pages-articles15.xml-p7744803p9244803.bz2'"
      ]
     },
     "execution_count": 17,
     "metadata": {},
     "output_type": "execute_result"
    }
   ],
   "source": [
    "import bz2\n",
    "import subprocess\n",
    "\n",
    "data_path = data_paths[15]\n",
    "data_path"
   ]
  },
  {
   "cell_type": "code",
   "execution_count": 18,
   "metadata": {},
   "outputs": [
    {
     "name": "stdout",
     "output_type": "stream",
     "text": [
      "4.78 s ± 124 ms per loop (mean ± std. dev. of 3 runs, 3 loops each)\n"
     ]
    }
   ],
   "source": [
    "%%timeit -n 3 -r 3\n",
    "\n",
    "lines = []\n",
    "for i, line in enumerate(bz2.BZ2File(data_path, 'r')):\n",
    "    lines.append(line)\n",
    "    if i > 1e6:\n",
    "        break"
   ]
  },
  {
   "cell_type": "code",
   "execution_count": 19,
   "metadata": {},
   "outputs": [
    {
     "data": {
      "text/plain": [
       "'C:/Users/raksh/Desktop/Fall 2018/Big Data-Nick brown/Big-Data-Intelligence-and-Analytics-/Recommendation System for Wikipedia/Data/enwiki-20180901-pages-articles15.xml-p7744803p9244803.bz2'"
      ]
     },
     "execution_count": 19,
     "metadata": {},
     "output_type": "execute_result"
    }
   ],
   "source": [
    "data_path"
   ]
  },
  {
   "cell_type": "code",
   "execution_count": 20,
   "metadata": {},
   "outputs": [],
   "source": [
    "#bzcat is not working!"
   ]
  },
  {
   "cell_type": "code",
   "execution_count": 21,
   "metadata": {},
   "outputs": [
    {
     "data": {
      "text/plain": [
       "[b'  <page>\\n',\n",
       " b'    <title>Carroll Knicely</title>\\n',\n",
       " b'    <ns>0</ns>\\n',\n",
       " b'    <id>7772446</id>\\n',\n",
       " b'    <revision>\\n',\n",
       " b'      <id>850825914</id>\\n',\n",
       " b'      <parentid>819310247</parentid>\\n',\n",
       " b'      <timestamp>2018-07-18T05:43:30Z</timestamp>\\n',\n",
       " b'      <contributor>\\n',\n",
       " b'        <username>Ser Amantio di Nicolao</username>\\n',\n",
       " b'        <id>753665</id>\\n',\n",
       " b'      </contributor>\\n',\n",
       " b'      <comment>/* External links */add authority control, test using [[Project:AWB|AWB]]</comment>\\n',\n",
       " b'      <model>wikitext</model>\\n',\n",
       " b'      <format>text/x-wiki</format>\\n',\n",
       " b'      <text xml:space=\"preserve\">\\'\\'\\'Carroll F. Knicely\\'\\'\\' (born c. 1929 in [[Staunton, Virginia]] - died November 2, 2006 in [[Glasgow, Kentucky]]) was [[Editing|editor]] and [[Publishing|publisher]] of the \\'\\'[[Glasgow Daily Times]]\\'\\' for nearly 20 years (and later, its owner) and served under three [[Governor of Kentucky|Kentucky Governors]] as commissioner and later Commerce Secretary.\\n',\n",
       " b'\\n',\n",
       " b'==Career in publishing==\\n',\n",
       " b\"Knicely started out as an [[apprentice]] [[Linotype machine|linotype]] operator at ''[[The News-Virginian]]''.  In 1957, he relocated to [[Glasgow, Kentucky]] as the president, editor and publisher of the ''Glasgow Daily Times''.  In 1963, Knicely and his wife Evely became the sole owners of the newspaper and of the Glasgow Publishing Corporation.  He also held interests in several newspapers all over [[Kentucky]] and was part owner of a weekly newspaper in [[Westmoreland, Tennessee]].\\n\",\n",
       " b'\\n',\n",
       " b'Knicely served as president of the Kentucky Press Association and president of the Kentucky Journalism Foundation. Under his leadership, the Glasgow Daily Times was named by the Kentucky Press Association as the best newspaper in its class in 1967.\\n',\n",
       " b'\\n',\n",
       " b'==Western Kentucky University==\\n',\n",
       " b\"Knicely was a supporter of [[Western Kentucky University]], where he served on the board of regents beginning in 1976. He was instrumental in the success of the university's nationally known journalism department.\\n\",\n",
       " b'\\n',\n",
       " b'Knicely was a [[philanthropist]], donating large sums of money to the Institute for Economic Development and Public Service at the university and to establish the Knicely Professorship in [[Leadership Studies]] and to create the Knicely Endowment, a permanent support fund to maintain and upgrade the Institute.\\n',\n",
       " b'\\n',\n",
       " b\"The Carroll Knicely Conference Center at Western Kentucky University's [[Bowling Green, Kentucky|Bowling Green]] campus is named in his honor.\\n\",\n",
       " b'\\n',\n",
       " b'==Civil service==\\n',\n",
       " b\"Knicely served as Commerce secretary under [[Democratic Party (United States)|Democratic]] governors [[Julian Carroll]], [[Martha Layne Collins]] and [[Wallace G. Wilkinson]].  While serving in the state's Commerce Cabinet as commissioner, he helped secure the location of the [[General Motors]] [[Chevrolet Corvette|Corvette]] plant in Bowling Green in 1981. Later, as commerce secretary, he was instrumental in bringing the [[Toyota Motor Corporation|Toyota]] plant to [[Georgetown, Kentucky]] in 1985.\\n\",\n",
       " b'\\n',\n",
       " b'==Personal life==\\n',\n",
       " b'Knicely had two sons and three daughters, four grandchildren and four great-grandchildren.\\n',\n",
       " b'\\n',\n",
       " b'==External links==\\n',\n",
       " b\"*[http://www.legacy.com/louisville/Obituaries.asp?Page=LifeStory&amp;PersonID=19811596 Carroll Knicely's obituary]\\n\",\n",
       " b'\\n',\n",
       " b'{{authority control}}\\n',\n",
       " b'\\n',\n",
       " b'{{DEFAULTSORT:Knicely, Carroll F.}}\\n',\n",
       " b'[[Category:1929 births]]\\n',\n",
       " b'[[Category:2006 deaths]]\\n',\n",
       " b'[[Category:Politicians from Staunton, Virginia]]\\n',\n",
       " b'[[Category:People from Glasgow, Kentucky]]\\n',\n",
       " b'[[Category:American newspaper editors]]\\n',\n",
       " b'[[Category:20th-century American newspaper publishers (people)]]\\n',\n",
       " b'[[Category:American philanthropists]]\\n',\n",
       " b'[[Category:State cabinet secretaries of Kentucky]]\\n',\n",
       " b'[[Category:Kentucky Democrats]]\\n',\n",
       " b'[[Category:Western Kentucky University people]]\\n',\n",
       " b'[[Category:20th-century American politicians]]\\n',\n",
       " b'[[Category:Journalists from Virginia]]</text>\\n',\n",
       " b'      <sha1>ne9lm35t87mct6z7cpe9peze3wat8ii</sha1>\\n',\n",
       " b'    </revision>\\n',\n",
       " b'  </page>\\n']"
      ]
     },
     "execution_count": 21,
     "metadata": {},
     "output_type": "execute_result"
    }
   ],
   "source": [
    "lines = []\n",
    "\n",
    "for i, line in enumerate(bz2.BZ2File(data_path, 'r')):\n",
    "    lines.append(line)\n",
    "    if i > 5e5:\n",
    "        break\n",
    "        \n",
    "lines[-165:-109]"
   ]
  },
  {
   "cell_type": "code",
   "execution_count": 22,
   "metadata": {},
   "outputs": [],
   "source": [
    "import xml.sax\n",
    "\n",
    "class WikiXmlHandler(xml.sax.handler.ContentHandler):\n",
    "    \"\"\"Content handler for Wiki XML data using SAX\"\"\"\n",
    "    def __init__(self):\n",
    "        xml.sax.handler.ContentHandler.__init__(self)\n",
    "        self._buffer = None\n",
    "        self._values = {}\n",
    "        self._current_tag = None\n",
    "        self._pages = []\n",
    "\n",
    "    def characters(self, content):\n",
    "        \"\"\"Characters between opening and closing tags\"\"\"\n",
    "        if self._current_tag:\n",
    "            self._buffer.append(content)\n",
    "\n",
    "    def startElement(self, name, attrs):\n",
    "        \"\"\"Opening tag of element\"\"\"\n",
    "        if name in ('title', 'text', 'timestamp'):\n",
    "            self._current_tag = name\n",
    "            self._buffer = []\n",
    "\n",
    "    def endElement(self, name):\n",
    "        \"\"\"Closing tag of element\"\"\"\n",
    "        if name == self._current_tag:\n",
    "            self._values[name] = ' '.join(self._buffer)\n",
    "\n",
    "        if name == 'page':\n",
    "            self._pages.append((self._values['title'], self._values['text']))"
   ]
  },
  {
   "cell_type": "code",
   "execution_count": 23,
   "metadata": {},
   "outputs": [
    {
     "data": {
      "text/plain": [
       "[]"
      ]
     },
     "execution_count": 23,
     "metadata": {},
     "output_type": "execute_result"
    }
   ],
   "source": [
    "# Content handler for Wiki XML\n",
    "handler = WikiXmlHandler()\n",
    "\n",
    "# Parsing object\n",
    "parser = xml.sax.make_parser()\n",
    "parser.setContentHandler(handler)\n",
    "\n",
    "handler._pages"
   ]
  },
  {
   "cell_type": "code",
   "execution_count": 24,
   "metadata": {},
   "outputs": [],
   "source": [
    "for l in lines[-165:-109]:\n",
    "    parser.feed(l)"
   ]
  },
  {
   "cell_type": "code",
   "execution_count": 25,
   "metadata": {},
   "outputs": [
    {
     "data": {
      "text/plain": [
       "[('Carroll Knicely',\n",
       "  \"'''Carroll F. Knicely''' (born c. 1929 in [[Staunton, Virginia]] - died November 2, 2006 in [[Glasgow, Kentucky]]) was [[Editing|editor]] and [[Publishing|publisher]] of the ''[[Glasgow Daily Times]]'' for nearly 20 years (and later, its owner) and served under three [[Governor of Kentucky|Kentucky Governors]] as commissioner and later Commerce Secretary. \\n \\n ==Career in publishing== \\n Knicely started out as an [[apprentice]] [[Linotype machine|linotype]] operator at ''[[The News-Virginian]]''.  In 1957, he relocated to [[Glasgow, Kentucky]] as the president, editor and publisher of the ''Glasgow Daily Times''.  In 1963, Knicely and his wife Evely became the sole owners of the newspaper and of the Glasgow Publishing Corporation.  He also held interests in several newspapers all over [[Kentucky]] and was part owner of a weekly newspaper in [[Westmoreland, Tennessee]]. \\n \\n Knicely served as president of the Kentucky Press Association and president of the Kentucky Journalism Foundation. Under his leadership, the Glasgow Daily Times was named by the Kentucky Press Association as the best newspaper in its class in 1967. \\n \\n ==Western Kentucky University== \\n Knicely was a supporter of [[Western Kentucky University]], where he served on the board of regents beginning in 1976. He was instrumental in the success of the university's nationally known journalism department. \\n \\n Knicely was a [[philanthropist]], donating large sums of money to the Institute for Economic Development and Public Service at the university and to establish the Knicely Professorship in [[Leadership Studies]] and to create the Knicely Endowment, a permanent support fund to maintain and upgrade the Institute. \\n \\n The Carroll Knicely Conference Center at Western Kentucky University's [[Bowling Green, Kentucky|Bowling Green]] campus is named in his honor. \\n \\n ==Civil service== \\n Knicely served as Commerce secretary under [[Democratic Party (United States)|Democratic]] governors [[Julian Carroll]], [[Martha Layne Collins]] and [[Wallace G. Wilkinson]].  While serving in the state's Commerce Cabinet as commissioner, he helped secure the location of the [[General Motors]] [[Chevrolet Corvette|Corvette]] plant in Bowling Green in 1981. Later, as commerce secretary, he was instrumental in bringing the [[Toyota Motor Corporation|Toyota]] plant to [[Georgetown, Kentucky]] in 1985. \\n \\n ==Personal life== \\n Knicely had two sons and three daughters, four grandchildren and four great-grandchildren. \\n \\n ==External links== \\n *[http://www.legacy.com/louisville/Obituaries.asp?Page=LifeStory & PersonID=19811596 Carroll Knicely's obituary] \\n \\n {{authority control}} \\n \\n {{DEFAULTSORT:Knicely, Carroll F.}} \\n [[Category:1929 births]] \\n [[Category:2006 deaths]] \\n [[Category:Politicians from Staunton, Virginia]] \\n [[Category:People from Glasgow, Kentucky]] \\n [[Category:American newspaper editors]] \\n [[Category:20th-century American newspaper publishers (people)]] \\n [[Category:American philanthropists]] \\n [[Category:State cabinet secretaries of Kentucky]] \\n [[Category:Kentucky Democrats]] \\n [[Category:Western Kentucky University people]] \\n [[Category:20th-century American politicians]] \\n [[Category:Journalists from Virginia]]\")]"
      ]
     },
     "execution_count": 25,
     "metadata": {},
     "output_type": "execute_result"
    }
   ],
   "source": [
    "handler._pages"
   ]
  },
  {
   "cell_type": "code",
   "execution_count": 26,
   "metadata": {},
   "outputs": [
    {
     "name": "stdout",
     "output_type": "stream",
     "text": [
      "['Zhou Wei Hui', 'Fred Jones (fictional character)', 'Sosnovski Raion', 'Sosnovskii Raion', 'Lucas brothers, builders', 'Jane Eire', 'KENZ (FM)', 'Prehibernation Week', 'Interactive Picture Systems', 'File:Saint Marie v1.jpg', 'Desert (dance music act)', 'Digimortal', 'Sosnovsky', 'Monaco at the 1952 Summer Olympics', 'Kazachok', 'Living on a Knife Edge', 'Lost Chances', 'Psychosonia', 'Sosnovskiy', 'Streets of Fear', 'Urith of Chittlehampton', 'Primatte', 'Sosnovski', 'Virgin of the World', 'Urith', 'Sosnovskii', 'Rocky Paths', 'General Güemes, Salta', 'San Fabiano', 'Mubarak Peace Bridge', 'Henry Vaughan (Architect)', 'Detroit Yacht Club', 'Damage of Life', 'DYC', 'Experiment With Destiny', 'Template:Nations at the 1952 Summer Olympics', 'Story taler', 'Fall of Earth City', 'Story taller', 'Identimate', 'Joker at the Gate', 'Wikipedia:Articles for deletion/Skeet (slang)', 'Light Specific Data', 'Looking in the Future', 'No. 22 Group RAF', 'Mists of Meridin', 'Nuclear Drive', 'Arturo Escobar', \"There's A Poison Goin On\", 'Some People Never Die', 'Star Cannibal']\n"
     ]
    }
   ],
   "source": [
    "# Object for handling xml\n",
    "handler = WikiXmlHandler()\n",
    "\n",
    "# Parsing object\n",
    "parser = xml.sax.make_parser()\n",
    "parser.setContentHandler(handler)\n",
    "\n",
    "for i, line in enumerate(bz2.BZ2File(data_path, 'r')):\n",
    "    parser.feed(line)\n",
    "    \n",
    "    # Stop when 3 articles have been found\n",
    "    if len(handler._pages) > 50:\n",
    "        break\n",
    "        \n",
    "print([x[0] for x in handler._pages])"
   ]
  },
  {
   "cell_type": "code",
   "execution_count": 27,
   "metadata": {},
   "outputs": [
    {
     "name": "stdout",
     "output_type": "stream",
     "text": [
      "KENZ (FM)\n"
     ]
    }
   ],
   "source": [
    "import mwparserfromhell \n",
    "\n",
    "print(handler._pages[6][0])\n",
    "\n",
    "# Create the wiki article\n",
    "wiki = mwparserfromhell.parse(handler._pages[6][1])"
   ]
  },
  {
   "cell_type": "code",
   "execution_count": 28,
   "metadata": {},
   "outputs": [
    {
     "name": "stdout",
     "output_type": "stream",
     "text": [
      "<class 'mwparserfromhell.wikicode.Wikicode'>\n"
     ]
    },
    {
     "data": {
      "text/plain": [
       "'{{Infobox radio station \\n  | name = KENZ \\n  | image = File:KENZ_949_Logo_2017.png \\n  | city = [[Prov'"
      ]
     },
     "execution_count": 28,
     "metadata": {},
     "output_type": "execute_result"
    }
   ],
   "source": [
    "print(type(wiki))\n",
    "wiki[:100]"
   ]
  },
  {
   "cell_type": "code",
   "execution_count": 29,
   "metadata": {},
   "outputs": [
    {
     "name": "stdout",
     "output_type": "stream",
     "text": [
      "There are 56 wikilinks.\n"
     ]
    },
    {
     "data": {
      "text/plain": [
       "['Provo, Utah', 'Wasatch Front', 'Megahertz', 'Contemporary hit radio', 'watt']"
      ]
     },
     "execution_count": 29,
     "metadata": {},
     "output_type": "execute_result"
    }
   ],
   "source": [
    "wikilinks = [x.title for x in wiki.filter_wikilinks()]\n",
    "print(f'There are {len(wikilinks)} wikilinks.')\n",
    "wikilinks[:5]"
   ]
  },
  {
   "cell_type": "code",
   "execution_count": 30,
   "metadata": {},
   "outputs": [
    {
     "data": {
      "text/plain": [
       "[]"
      ]
     },
     "execution_count": 30,
     "metadata": {},
     "output_type": "execute_result"
    }
   ],
   "source": [
    "wiki.filter_arguments()"
   ]
  },
  {
   "cell_type": "code",
   "execution_count": 31,
   "metadata": {},
   "outputs": [
    {
     "data": {
      "text/plain": [
       "[]"
      ]
     },
     "execution_count": 31,
     "metadata": {},
     "output_type": "execute_result"
    }
   ],
   "source": [
    "wiki.filter_comments()"
   ]
  },
  {
   "cell_type": "code",
   "execution_count": 32,
   "metadata": {},
   "outputs": [
    {
     "name": "stdout",
     "output_type": "stream",
     "text": [
      "There are 13 external links.\n"
     ]
    },
    {
     "data": {
      "text/plain": [
       "[(None, 'http://www.powerslc.com'),\n",
       " ('powerslc.com', 'http://www.powerslc.com'),\n",
       " (None, 'http://www.fcc.gov/fcc-bin/fmq?call=KENZ'),\n",
       " (None, 'http://www1.arbitron.com/sip/displaySip.do?surveyID=SU08'),\n",
       " ('Salt Lake Broadcasting History',\n",
       "  'http://www.oldradio.com/archives/stations/slc-hist.htm')]"
      ]
     },
     "execution_count": 32,
     "metadata": {},
     "output_type": "execute_result"
    }
   ],
   "source": [
    "external_links = [(x.title, x.url) for x in wiki.filter_external_links()]\n",
    "print(f'There are {len(external_links)} external links.')\n",
    "external_links[:5]"
   ]
  },
  {
   "cell_type": "code",
   "execution_count": 33,
   "metadata": {},
   "outputs": [
    {
     "data": {
      "text/plain": [
       "('[[Contemporary hit radio|Top 40 (CHR)]]',\n",
       " mwparserfromhell.nodes.wikilink.Wikilink)"
      ]
     },
     "execution_count": 33,
     "metadata": {},
     "output_type": "execute_result"
    }
   ],
   "source": [
    "contemporary = wiki.filter(matches = 'contemporary')\n",
    "contemporary[1], type(contemporary[1])"
   ]
  },
  {
   "cell_type": "code",
   "execution_count": 34,
   "metadata": {},
   "outputs": [
    {
     "data": {
      "text/plain": [
       "'KENZ (94.9 FM,  \" Power 94.9 \" ) is a top 40/CHR radio station broadcasting to Salt Lake City, Utah '"
      ]
     },
     "execution_count": 34,
     "metadata": {},
     "output_type": "execute_result"
    }
   ],
   "source": [
    "wiki.strip_code().strip()[:100]"
   ]
  },
  {
   "cell_type": "code",
   "execution_count": 35,
   "metadata": {},
   "outputs": [
    {
     "name": "stdout",
     "output_type": "stream",
     "text": [
      "There are 14 templates.\n",
      "Infobox radio station \n",
      "  \n",
      "coord\n",
      "listen live\n",
      "cite web\n",
      "cite web\n",
      "cite web\n",
      "dead link\n",
      "cite news\n",
      "Reflist\n",
      "FM station data\n",
      "Salt Lake City Radio\n",
      "Contemporary Hit Radio Stations in Utah\n",
      "Cumulus Media\n",
      "Provo, Utah\n"
     ]
    }
   ],
   "source": [
    "templates = wiki.filter_templates()\n",
    "print(f'There are {len(templates)} templates.')\n",
    "for template in templates:\n",
    "    print(template.name)"
   ]
  },
  {
   "cell_type": "code",
   "execution_count": 36,
   "metadata": {},
   "outputs": [
    {
     "data": {
      "text/plain": [
       "\"{{Infobox radio station \\n  | name = KENZ \\n  | image = File:KENZ_949_Logo_2017.png \\n  | city = [[Provo, Utah]] \\n  | area = north/central Utah, most of [[Wasatch Front]]  \\n  | branding = ''Power 94.9'' \\n  | slogan = Utah's New Hit Music \\n  | frequency = 94.9 [[Megahertz|MHz]] \\n  | airdate = 1981 (as KLRZ) \\n  | format = [[Contemporary hit radio|Top 40 (CHR)]]  \\n  | erp = 48,000 [[watt]]s \\n  | haat = 853 meters (atop [[Lake Mountain (Utah)|Lake Mountain]]) \\n  | class = C \\n  | facility_id = 6545 \\n  | coordinates = {{coord|40|16|58|N|111|56|11|W|region:US_type:landmark}}  \\n  | callsign_meaning =  \\n  | former_callsigns =KLRZ (1981-1986) < br > KBNG (1986-1987) < br > KTOU (1987-1989) < br > KZHT (1989-2004) < br > KPHT (1/6/2004-1/16/2004) < br > KMXU (1/16/2004-1/27/2004) < br > KHTB (2004-2015) \\n  | affiliations = \\n  | owner = [[Cumulus Media]] \\n  | licensee = Radio License Holding CBC, LLC \\n  | sister_stations = [[KBEE]], [[KBER]], [[KHTB]], [[KRRF]], [[KKAT (AM)|KKAT]], [[KUBL-FM]] \\n  | webcast = {{listen live|http://www.powerslc.com}} \\n  | website = [http://www.powerslc.com powerslc.com] \\n }}\""
      ]
     },
     "execution_count": 36,
     "metadata": {},
     "output_type": "execute_result"
    }
   ],
   "source": [
    "infobox = wiki.filter_templates(matches = 'Infobox radio station')[0]\n",
    "infobox"
   ]
  },
  {
   "cell_type": "code",
   "execution_count": 37,
   "metadata": {},
   "outputs": [
    {
     "data": {
      "text/plain": [
       "{'name': 'KENZ',\n",
       " 'image': 'File:KENZ_949_Logo_2017.png',\n",
       " 'city': 'Provo, Utah',\n",
       " 'area': 'north/central Utah, most of Wasatch Front',\n",
       " 'branding': 'Power 94.9',\n",
       " 'slogan': \"Utah's New Hit Music\",\n",
       " 'frequency': '94.9 MHz',\n",
       " 'airdate': '1981 (as KLRZ)',\n",
       " 'format': 'Top 40 (CHR)',\n",
       " 'erp': '48,000 watts',\n",
       " 'haat': '853 meters (atop Lake Mountain)',\n",
       " 'class': 'C',\n",
       " 'facility_id': '6545',\n",
       " 'coordinates': '',\n",
       " 'callsign_meaning': '',\n",
       " 'former_callsigns': 'KLRZ (1981-1986) < br > KBNG (1986-1987) < br > KTOU (1987-1989) < br > KZHT (1989-2004) < br > KPHT (1/6/2004-1/16/2004) < br > KMXU (1/16/2004-1/27/2004) < br > KHTB (2004-2015)',\n",
       " 'affiliations': '',\n",
       " 'owner': 'Cumulus Media',\n",
       " 'licensee': 'Radio License Holding CBC, LLC',\n",
       " 'sister_stations': 'KBEE, KBER, KHTB, KRRF, KKAT, KUBL-FM',\n",
       " 'webcast': '',\n",
       " 'website': 'powerslc.com'}"
      ]
     },
     "execution_count": 37,
     "metadata": {},
     "output_type": "execute_result"
    }
   ],
   "source": [
    "information = {param.name.strip_code().strip(): param.value.strip_code().strip() for param in infobox.params}\n",
    "information"
   ]
  },
  {
   "cell_type": "code",
   "execution_count": 38,
   "metadata": {},
   "outputs": [],
   "source": [
    "import re\n",
    "\n",
    "def process_article(title, text, timestamp, template = 'Infobox book'):\n",
    "    \"\"\"Process a wikipedia article looking for template\"\"\"\n",
    "    \n",
    "    # Create a parsing object\n",
    "    wikicode = mwparserfromhell.parse(text)\n",
    "    \n",
    "    # Search through templates for the template\n",
    "    matches = wikicode.filter_templates(matches = template)\n",
    "    \n",
    "    # Filter out errant matches\n",
    "    matches = [x for x in matches if x.name.strip_code().strip().lower() == template.lower()]\n",
    "    \n",
    "    if len(matches) >= 1:\n",
    "        # template_name = matches[0].name.strip_code().strip()\n",
    "\n",
    "        # Extract information from infobox\n",
    "        properties = {param.name.strip_code().strip(): param.value.strip_code().strip() \n",
    "                      for param in matches[0].params\n",
    "                      if param.value.strip_code().strip()}\n",
    "\n",
    "        # Extract internal wikilinks\n",
    "        wikilinks = [x.title.strip_code().strip() for x in wikicode.filter_wikilinks()]\n",
    "\n",
    "        # Extract external links\n",
    "        exlinks = [x.url.strip_code().strip() for x in wikicode.filter_external_links()]\n",
    "\n",
    "        # Find approximate length of article\n",
    "        text_length = len(wikicode.strip_code().strip())\n",
    "\n",
    "        return (title, properties, wikilinks, exlinks, timestamp, text_length)"
   ]
  },
  {
   "cell_type": "code",
   "execution_count": 39,
   "metadata": {},
   "outputs": [],
   "source": [
    "r = process_article('KENZ (FM)', wiki, None)\n",
    "r"
   ]
  },
  {
   "cell_type": "code",
   "execution_count": 40,
   "metadata": {},
   "outputs": [
    {
     "data": {
      "text/plain": [
       "('KENZ (FM)',\n",
       " {'name': 'KENZ',\n",
       "  'image': 'File:KENZ_949_Logo_2017.png',\n",
       "  'city': 'Provo, Utah',\n",
       "  'area': 'north/central Utah, most of Wasatch Front',\n",
       "  'branding': 'Power 94.9',\n",
       "  'slogan': \"Utah's New Hit Music\",\n",
       "  'frequency': '94.9 MHz',\n",
       "  'airdate': '1981 (as KLRZ)',\n",
       "  'format': 'Top 40 (CHR)',\n",
       "  'erp': '48,000 watts',\n",
       "  'haat': '853 meters (atop Lake Mountain)',\n",
       "  'class': 'C',\n",
       "  'facility_id': '6545',\n",
       "  'former_callsigns': 'KLRZ (1981-1986) < br > KBNG (1986-1987) < br > KTOU (1987-1989) < br > KZHT (1989-2004) < br > KPHT (1/6/2004-1/16/2004) < br > KMXU (1/16/2004-1/27/2004) < br > KHTB (2004-2015)',\n",
       "  'owner': 'Cumulus Media',\n",
       "  'licensee': 'Radio License Holding CBC, LLC',\n",
       "  'sister_stations': 'KBEE, KBER, KHTB, KRRF, KKAT, KUBL-FM',\n",
       "  'website': 'powerslc.com'})"
      ]
     },
     "execution_count": 40,
     "metadata": {},
     "output_type": "execute_result"
    }
   ],
   "source": [
    "r = process_article('KENZ (FM)', wiki, None, template = 'Infobox radio station')\n",
    "r[0], r[1]"
   ]
  },
  {
   "cell_type": "code",
   "execution_count": 41,
   "metadata": {},
   "outputs": [],
   "source": [
    "class WikiXmlHandler(xml.sax.handler.ContentHandler):\n",
    "    \"\"\"Parse through XML data using SAX\"\"\"\n",
    "    def __init__(self):\n",
    "        xml.sax.handler.ContentHandler.__init__(self)\n",
    "        self._buffer = None\n",
    "        self._values = {}\n",
    "        self._current_tag = None\n",
    "        self._books = []\n",
    "        self._article_count = 0\n",
    "        self._non_matches = []\n",
    "\n",
    "    def characters(self, content):\n",
    "        \"\"\"Characters between opening and closing tags\"\"\"\n",
    "        if self._current_tag:\n",
    "            self._buffer.append(content)\n",
    "\n",
    "    def startElement(self, name, attrs):\n",
    "        \"\"\"Opening tag of element\"\"\"\n",
    "        if name in ('title', 'text', 'timestamp'):\n",
    "            self._current_tag = name\n",
    "            self._buffer = []\n",
    "\n",
    "    def endElement(self, name):\n",
    "        \"\"\"Closing tag of element\"\"\"\n",
    "        if name == self._current_tag:\n",
    "            self._values[name] = ' '.join(self._buffer)\n",
    "\n",
    "        if name == 'page':\n",
    "            self._article_count += 1\n",
    "            # Search through the page to see if the page is a book\n",
    "            book = process_article(**self._values, template = 'Infobox book')\n",
    "            # Append to the list of books\n",
    "            if book:\n",
    "                self._books.append(book)"
   ]
  },
  {
   "cell_type": "code",
   "execution_count": 42,
   "metadata": {},
   "outputs": [
    {
     "name": "stdout",
     "output_type": "stream",
     "text": [
      "Searched through 1974 articles to find 3 books.\n"
     ]
    }
   ],
   "source": [
    "# Object for handling xml\n",
    "handler = WikiXmlHandler()\n",
    "\n",
    "# Parsing object\n",
    "parser = xml.sax.make_parser()\n",
    "parser.setContentHandler(handler)\n",
    "\n",
    "for i, line in enumerate(bz2.BZ2File(data_path, 'r')):\n",
    "    parser.feed(line)\n",
    "    \n",
    "    # Stop when 3 articles have been found\n",
    "    if len(handler._books) > 2:\n",
    "        break\n",
    "        \n",
    "print(f'Searched through {handler._article_count} articles to find 3 books.')"
   ]
  },
  {
   "cell_type": "code",
   "execution_count": 43,
   "metadata": {},
   "outputs": [
    {
     "data": {
      "text/plain": [
       "('The Cambridge Dictionary of Philosophy',\n",
       " {'1': '< !-- See Wikipedia:WikiProject_Books -- >',\n",
       "  'name': 'The Cambridge Dictionary of Philosophy',\n",
       "  'image': 'File:The Cambridge Dictionary of Philosophy (first edition).jpg',\n",
       "  'caption': 'Cover of the first edition',\n",
       "  'editor': 'Robert Audi',\n",
       "  'country': 'United Kingdom',\n",
       "  'language': 'English',\n",
       "  'subject': 'Philosophy',\n",
       "  'publisher': 'Cambridge University Press',\n",
       "  'pub_date': '1995',\n",
       "  'media_type': 'Print (Hardcover and Paperback)',\n",
       "  'pages': '1001 (second edition)',\n",
       "  'isbn': '0-521-63722-8',\n",
       "  'isbn_note': '(second edition)'},\n",
       " ['Robert Audi',\n",
       "  'Philosophy',\n",
       "  'Cambridge University Press',\n",
       "  'Hardcover',\n",
       "  'Paperback',\n",
       "  'dictionary',\n",
       "  'philosophy',\n",
       "  'Cambridge University Press',\n",
       "  'Robert Audi',\n",
       "  'Category:1995 books',\n",
       "  'Category:Cambridge University Press books',\n",
       "  'Category:Dictionaries of philosophy',\n",
       "  'Category:Encyclopedias of philosophy',\n",
       "  'Category:English-language books'],\n",
       " ['http://www.cambridge.org/uk/catalogue/catalogue.asp?isbn=9780521637220'],\n",
       " '2017-11-13T01:50:33Z',\n",
       " 679)"
      ]
     },
     "execution_count": 43,
     "metadata": {},
     "output_type": "execute_result"
    }
   ],
   "source": [
    "handler._books[0]"
   ]
  },
  {
   "cell_type": "code",
   "execution_count": 44,
   "metadata": {},
   "outputs": [
    {
     "name": "stdout",
     "output_type": "stream",
     "text": [
      "Already uncompressed\n"
     ]
    }
   ],
   "source": [
    "# Uncompress the file if not already uncompressed\n",
    "if not os.path.exists('C:/Users/raksh/Desktop/Fall 2018/Big Data-Nick brown/Big-Data-Intelligence-and-Analytics-/Recommendation System for Wikipedia/Data/p15.xml'):\n",
    "    file=bz2.BZ2File('C:/Users/raksh/Desktop/Fall 2018/Big Data-Nick brown/Big-Data-Intelligence-and-Analytics-/Recommendation System for Wikipedia/Data/enwiki-20180901-pages-articles15.xml-p7744803p9244803.bz2').read()\n",
    "    open('C:/Users/raksh/Desktop/Fall 2018/Big Data-Nick brown/Big-Data-Intelligence-and-Analytics-/Recommendation System for Wikipedia/Data/p15.xml','wb').write(file)\n",
    "else:\n",
    "    print('Already uncompressed')"
   ]
  },
  {
   "cell_type": "code",
   "execution_count": 45,
   "metadata": {},
   "outputs": [],
   "source": [
    "#I will not run cell 43, 44 and 45 for now!"
   ]
  },
  {
   "cell_type": "code",
   "execution_count": 46,
   "metadata": {},
   "outputs": [],
   "source": [
    "import gc\n",
    "import json"
   ]
  },
  {
   "cell_type": "code",
   "execution_count": 47,
   "metadata": {},
   "outputs": [],
   "source": [
    "d='C:/Users/raksh/Desktop/Fall 2018/Big Data-Nick brown/Big-Data-Intelligence-and-Analytics-/Recommendation System for Wikipedia/Data/wiki/enwiki-20180901-pages-articles1.xml-p10p30302.bz2'"
   ]
  },
  {
   "cell_type": "code",
   "execution_count": 48,
   "metadata": {},
   "outputs": [],
   "source": [
    "c = \"C:/Users/raksh/Desktop/Fall 2018/Big Data-Nick brown/Big-Data-Intelligence-and-Analytics-/Recommendation System for Wikipedia/Data/wiki/enwiki-20180901-pages-articles14.xml-p7697599p7744799.bz2\""
   ]
  },
  {
   "cell_type": "code",
   "execution_count": 49,
   "metadata": {},
   "outputs": [],
   "source": [
    "def find_books(data_path, limit = None, save = True):\n",
    "    \"\"\"Find all the book articles from a compressed wikipedia XML dump.\n",
    "       `limit` is an optional argument to only return a set number of books.\n",
    "        If save, books are saved to partition directory based on file name\"\"\"\n",
    "\n",
    "    # Object for handling xml\n",
    "    handler = WikiXmlHandler()\n",
    "\n",
    "    # Parsing object\n",
    "    parser = xml.sax.make_parser()\n",
    "    parser.setContentHandler(handler)\n",
    "\n",
    "    # Iterate through compressed file\n",
    "    for i, line in enumerate(bz2.BZ2File(data_path, 'r')):\n",
    "        try:\n",
    "            parser.feed(line)\n",
    "        except StopIteration:\n",
    "            break\n",
    "            \n",
    "        # Optional limit\n",
    "        if limit is not None and len(handler._books) >= limit:\n",
    "            return handler._books\n",
    "    \n",
    "    if save:\n",
    "        partition_dir = 'C:/Users/raksh/Desktop/Fall 2018/Big Data-Nick brown/Big-Data-Intelligence-and-Analytics-/Recommendation System for Wikipedia/Data/wiki/partitions/'\n",
    "        # Create file name based on partition name\n",
    "        p_str = data_path.split('-')[-1].split('.')[-2]\n",
    "        out_dir = partition_dir + f'{p_str}.json'\n",
    "\n",
    "        # Open the file\n",
    "        with open(out_dir, 'w') as fout:\n",
    "            # Write as json\n",
    "            for book in handler._books:\n",
    "                fout.write(json.dumps(book) + '\\n')\n",
    "        \n",
    "        print(f'{len(os.listdir(partition_dir))} files processed.', end = '\\r')\n",
    "\n",
    "    # Memory management\n",
    "    del handler\n",
    "    del parser\n",
    "    gc.collect()\n",
    "    return None"
   ]
  },
  {
   "cell_type": "code",
   "execution_count": 50,
   "metadata": {},
   "outputs": [
    {
     "name": "stdout",
     "output_type": "stream",
     "text": [
      "1 files processed.\r"
     ]
    }
   ],
   "source": [
    "find_books(c)"
   ]
  },
  {
   "cell_type": "code",
   "execution_count": 50,
   "metadata": {},
   "outputs": [
    {
     "data": {
      "text/plain": [
       "(1,\n",
       " ['C:/Users/raksh/Desktop/Fall 2018/Big Data-Nick brown/Big-Data-Intelligence-and-Analytics-/Recommendation System for Wikipedia/Data/wiki/enwiki-20180901-pages-articles1.xml-p10p30302.bz2'])"
      ]
     },
     "execution_count": 50,
     "metadata": {},
     "output_type": "execute_result"
    }
   ],
   "source": [
    "partitions = ['C:/Users/raksh/Desktop/Fall 2018/Big Data-Nick brown/Big-Data-Intelligence-and-Analytics-/Recommendation System for Wikipedia/Data/wiki/' + file for file in os.listdir('C:/Users/raksh/Desktop/Fall 2018/Big Data-Nick brown/Big-Data-Intelligence-and-Analytics-/Recommendation System for Wikipedia/Data/wiki') if 'xml-p' in file]\n",
    "len(partitions), partitions"
   ]
  },
  {
   "cell_type": "code",
   "execution_count": null,
   "metadata": {},
   "outputs": [],
   "source": []
  },
  {
   "cell_type": "code",
   "execution_count": 51,
   "metadata": {},
   "outputs": [],
   "source": [
    "from multiprocessing import Pool \n",
    "# import tqdm \n",
    "\n",
    "# # List of lists to single list\n",
    "# from itertools import chain\n",
    "\n",
    "# # Sending keyword arguments in map\n",
    "# from functools import partial"
   ]
  },
  {
   "cell_type": "code",
   "execution_count": 52,
   "metadata": {},
   "outputs": [
    {
     "data": {
      "text/plain": [
       "4"
      ]
     },
     "execution_count": 52,
     "metadata": {},
     "output_type": "execute_result"
    }
   ],
   "source": [
    "os.cpu_count()"
   ]
  },
  {
   "cell_type": "code",
   "execution_count": 53,
   "metadata": {},
   "outputs": [],
   "source": [
    "from timeit import default_timer as timer\n",
    "# Create a pool of workers to execute processes\n"
   ]
  },
  {
   "cell_type": "code",
   "execution_count": 54,
   "metadata": {},
   "outputs": [
    {
     "data": {
      "text/plain": [
       "230.4439641022151"
      ]
     },
     "execution_count": 54,
     "metadata": {},
     "output_type": "execute_result"
    }
   ],
   "source": [
    "start = timer()\n",
    "start"
   ]
  },
  {
   "cell_type": "code",
   "execution_count": 55,
   "metadata": {},
   "outputs": [
    {
     "ename": "TypeError",
     "evalue": "map() got an unexpected keyword argument 'target'",
     "output_type": "error",
     "traceback": [
      "\u001b[1;31m---------------------------------------------------------------------------\u001b[0m",
      "\u001b[1;31mTypeError\u001b[0m                                 Traceback (most recent call last)",
      "\u001b[1;32m<ipython-input-55-76ad0604ff00>\u001b[0m in \u001b[0;36m<module>\u001b[1;34m\u001b[0m\n\u001b[0;32m      3\u001b[0m \u001b[1;32mif\u001b[0m \u001b[0m__name__\u001b[0m \u001b[1;33m==\u001b[0m \u001b[1;34m'__main__'\u001b[0m\u001b[1;33m:\u001b[0m\u001b[1;33m\u001b[0m\u001b[0m\n\u001b[0;32m      4\u001b[0m     \u001b[0mpool\u001b[0m \u001b[1;33m=\u001b[0m \u001b[0mPool\u001b[0m\u001b[1;33m(\u001b[0m\u001b[0mprocesses\u001b[0m \u001b[1;33m=\u001b[0m \u001b[1;36m1\u001b[0m\u001b[1;33m)\u001b[0m\u001b[1;33m\u001b[0m\u001b[0m\n\u001b[1;32m----> 5\u001b[1;33m     \u001b[0mresults\u001b[0m \u001b[1;33m=\u001b[0m \u001b[0mpool\u001b[0m\u001b[1;33m.\u001b[0m\u001b[0mmap\u001b[0m\u001b[1;33m(\u001b[0m\u001b[0mtarget\u001b[0m\u001b[1;33m=\u001b[0m\u001b[0mfind_books\u001b[0m\u001b[1;33m,\u001b[0m \u001b[0margs\u001b[0m\u001b[1;33m=\u001b[0m\u001b[0mtempList\u001b[0m\u001b[1;33m)\u001b[0m\u001b[1;33m\u001b[0m\u001b[0m\n\u001b[0m\u001b[0;32m      6\u001b[0m     \u001b[0mpool\u001b[0m\u001b[1;33m.\u001b[0m\u001b[0mstart\u001b[0m\u001b[1;33m(\u001b[0m\u001b[1;33m)\u001b[0m\u001b[1;33m\u001b[0m\u001b[0m\n\u001b[0;32m      7\u001b[0m     \u001b[0mpool\u001b[0m\u001b[1;33m.\u001b[0m\u001b[0mjoin\u001b[0m\u001b[1;33m(\u001b[0m\u001b[1;33m)\u001b[0m\u001b[1;33m\u001b[0m\u001b[0m\n",
      "\u001b[1;31mTypeError\u001b[0m: map() got an unexpected keyword argument 'target'"
     ]
    }
   ],
   "source": [
    "# Map (service, tasks), applies function to each partition\n",
    "tempList = [c]\n",
    "if __name__ == '__main__':\n",
    "    pool = Pool(processes = 1)\n",
    "    results = pool.map(find_books, range(3))\n",
    "    pool.start()\n",
    "    pool.join()    \n",
    "    pool.close()"
   ]
  },
  {
   "cell_type": "code",
   "execution_count": null,
   "metadata": {},
   "outputs": [],
   "source": [
    "pool.close()\n",
    "pool.join()\n",
    "\n",
    "end = timer()\n",
    "print(f'{end - start} seconds elapsed.')"
   ]
  },
  {
   "cell_type": "code",
   "execution_count": null,
   "metadata": {},
   "outputs": [],
   "source": []
  },
  {
   "cell_type": "code",
   "execution_count": null,
   "metadata": {},
   "outputs": [],
   "source": []
  },
  {
   "cell_type": "code",
   "execution_count": null,
   "metadata": {},
   "outputs": [],
   "source": []
  },
  {
   "cell_type": "code",
   "execution_count": null,
   "metadata": {},
   "outputs": [],
   "source": []
  },
  {
   "cell_type": "code",
   "execution_count": null,
   "metadata": {},
   "outputs": [],
   "source": []
  },
  {
   "cell_type": "code",
   "execution_count": null,
   "metadata": {},
   "outputs": [],
   "source": []
  },
  {
   "cell_type": "code",
   "execution_count": null,
   "metadata": {},
   "outputs": [],
   "source": []
  },
  {
   "cell_type": "code",
   "execution_count": null,
   "metadata": {},
   "outputs": [],
   "source": []
  },
  {
   "cell_type": "code",
   "execution_count": null,
   "metadata": {},
   "outputs": [],
   "source": []
  },
  {
   "cell_type": "code",
   "execution_count": null,
   "metadata": {},
   "outputs": [],
   "source": []
  },
  {
   "cell_type": "code",
   "execution_count": null,
   "metadata": {},
   "outputs": [],
   "source": []
  },
  {
   "cell_type": "code",
   "execution_count": null,
   "metadata": {},
   "outputs": [],
   "source": []
  },
  {
   "cell_type": "code",
   "execution_count": null,
   "metadata": {},
   "outputs": [],
   "source": []
  },
  {
   "cell_type": "code",
   "execution_count": null,
   "metadata": {},
   "outputs": [],
   "source": []
  },
  {
   "cell_type": "code",
   "execution_count": null,
   "metadata": {},
   "outputs": [],
   "source": []
  },
  {
   "cell_type": "code",
   "execution_count": null,
   "metadata": {},
   "outputs": [],
   "source": []
  },
  {
   "cell_type": "code",
   "execution_count": null,
   "metadata": {},
   "outputs": [],
   "source": []
  }
 ],
 "metadata": {
  "kernelspec": {
   "display_name": "Python 3",
   "language": "python",
   "name": "python3"
  },
  "language_info": {
   "codemirror_mode": {
    "name": "ipython",
    "version": 3
   },
   "file_extension": ".py",
   "mimetype": "text/x-python",
   "name": "python",
   "nbconvert_exporter": "python",
   "pygments_lexer": "ipython3",
   "version": "3.6.6"
  }
 },
 "nbformat": 4,
 "nbformat_minor": 2
}
